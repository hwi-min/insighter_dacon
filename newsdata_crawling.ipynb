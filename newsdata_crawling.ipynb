{
 "cells": [
  {
   "cell_type": "markdown",
   "metadata": {},
   "source": [
    "### 환경 세팅"
   ]
  },
  {
   "cell_type": "code",
   "execution_count": null,
   "metadata": {},
   "outputs": [],
   "source": [
    "import pandas as pd\n",
    "import numpy as np\n",
    "import os\n",
    "import tqdm"
   ]
  },
  {
   "cell_type": "markdown",
   "metadata": {},
   "source": [
    "### NASDAQ_RSS_IFO 파일 하나로 병합하기\n",
    "- 다음과 같은 파일 구조에서 파일 병합 진행  \n",
    "  \n",
    "📂 data  \n",
    "ㄴ 📂 NASDAQ_RSS_IFO   \n",
    "ㄴ NASDAQ_DT_FC_STK_QUT ...  \n",
    "ㄴ NASDAQ_FC_STK_IEM_IFO ...  \n",
    "ㄴ newsdata_crawling.ipynb  "
   ]
  },
  {
   "cell_type": "code",
   "execution_count": 61,
   "metadata": {},
   "outputs": [],
   "source": [
    "# 현재 본인 디렉토리 주소로 변경 필요\n",
    "#current_directory = os.chdir('/Users/hwkim/Desktop/DataScience/DACON_NH농협투자증권/data')"
   ]
  },
  {
   "cell_type": "code",
   "execution_count": 59,
   "metadata": {},
   "outputs": [],
   "source": [
    "# url 가져오기\n",
    "\n",
    "# 현재 디렉토리 위치 저장 \n",
    "current_directory = os.getcwd()\n",
    "current_directory\n",
    "\n",
    "# 뉴스기사 정보가 담긴 디렉토리로 이동\n",
    "news_directory = current_directory+'/NASDAQ_RSS_IFO'\n",
    "os.chdir(news_directory)\n",
    "\n",
    "# 1월부터 8월까지 데이터 하나로 합칠 데이터프레임\n",
    "merged_df = pd.DataFrame()\n",
    "\n",
    "# 디렉토리 내 순차적으로 파일 읽어오기\n",
    "for file in os.listdir(news_directory):\n",
    "        file_path = os.path.join(os.getcwd(), file)\n",
    "        try:\n",
    "            df = pd.read_csv(file_path, encoding='iso-8859-1')\n",
    "        except pd.errors.ParserError as e:\n",
    "            print(f\"Error parsing file: {e}\")\n",
    "\n",
    "        # 빈 데이터프레임에 병합\n",
    "        merged_df = pd.concat([merged_df, df], ignore_index=True)\n",
    "    \n",
    "\n",
    "output_csv_path = current_directory+'/NASDAQ_202301-202307.csv'\n",
    "merged_df.to_csv(output_csv_path, index=False)"
   ]
  }
 ],
 "metadata": {
  "kernelspec": {
   "display_name": "Python 3",
   "language": "python",
   "name": "python3"
  },
  "language_info": {
   "codemirror_mode": {
    "name": "ipython",
    "version": 3
   },
   "file_extension": ".py",
   "mimetype": "text/x-python",
   "name": "python",
   "nbconvert_exporter": "python",
   "pygments_lexer": "ipython3",
   "version": "3.11.5"
  },
  "orig_nbformat": 4
 },
 "nbformat": 4,
 "nbformat_minor": 2
}
